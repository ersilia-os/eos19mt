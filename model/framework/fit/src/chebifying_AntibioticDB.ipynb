{
 "cells": [
  {
   "cell_type": "code",
   "execution_count": null,
   "id": "7e525a40",
   "metadata": {},
   "outputs": [],
   "source": [
    "# STEP 1: USE CHATGPT TO PARSE THIS WEBSITE AND GENERATE A CSV FILE OF THE CONTENTS (GARDP_parsed.csv)\n",
    "# STEP 2: MANUALLY ANNOTATE GARDP ANTIBIOTIC CLASSES WITH CHEBI IDS (GARDP_edited.csv)\n",
    "# STEP 3: DOWNLOAD CHEBI ONTOLOGY FILE FROM: https://ftp.ebi.ac.uk/pub/databases/chebi-2/ontology/ ---> chebi_lite.json.gz | mapping CHEBI ids to labels/names\n",
    "# STEP 4: DOWNLOAD SMILES FROM ANTIBIOTIC DB - Got them from eos6ojg\n",
    "# STEP 5: USING ERSILIA, CHEBIFY ANTIBIOTIC DB (eos6tpo)\n",
    "# STEP 6: MERGE GARDP_edited.csv WITH CHEBIFIED ANTIBIOTIC DB TO DEFINE A FINAL SET OF FEATURES AND RULES (Final_column_criteria.csv and notes.txt)"
   ]
  },
  {
   "cell_type": "code",
   "execution_count": 1,
   "id": "73a05b88",
   "metadata": {},
   "outputs": [],
   "source": [
    "from collections import Counter\n",
    "import pandas as pd\n",
    "import gzip\n",
    "import json \n",
    "import tqdm"
   ]
  },
  {
   "cell_type": "code",
   "execution_count": 2,
   "id": "506777d4",
   "metadata": {},
   "outputs": [
    {
     "name": "stdout",
     "output_type": "stream",
     "text": [
      "Number of edges: 377879\n",
      "Number of nodes: 223061\n"
     ]
    }
   ],
   "source": [
    "# Read json file\n",
    "file_path = \"../data/chebi_lite.json.gz\"\n",
    "with gzip.open(file_path, 'rt', encoding='utf-8') as f:\n",
    "    data = json.load(f)\n",
    "\n",
    "# Clean data\n",
    "data = data['graphs'][0]\n",
    "nodes, edges = data['nodes'], data['edges']\n",
    "\n",
    "print(f\"Number of edges: {len(edges)}\")\n",
    "print(f\"Number of nodes: {len(nodes)}\")"
   ]
  },
  {
   "cell_type": "code",
   "execution_count": 3,
   "id": "9083e356",
   "metadata": {},
   "outputs": [
    {
     "name": "stderr",
     "output_type": "stream",
     "text": [
      "100%|██████████| 223061/223061 [00:00<00:00, 1648338.94it/s]\n"
     ]
    }
   ],
   "source": [
    "id_to_lbl = {}\n",
    "for node in tqdm.tqdm(nodes):\n",
    "    if \"CHEBI\" in node['id'] and (\"deprecated\" not in node['meta'] or node['meta']['deprecated'] is False):\n",
    "        id_to_lbl[node['id'].split(\"/\")[-1].replace(\"_\", \":\")] = node['lbl']"
   ]
  },
  {
   "cell_type": "code",
   "execution_count": 4,
   "id": "71e0ac9d",
   "metadata": {},
   "outputs": [
    {
     "data": {
      "text/plain": [
       "203671"
      ]
     },
     "execution_count": 4,
     "metadata": {},
     "output_type": "execute_result"
    }
   ],
   "source": [
    "len(id_to_lbl)"
   ]
  },
  {
   "cell_type": "code",
   "execution_count": 55,
   "id": "5d0b688a",
   "metadata": {},
   "outputs": [],
   "source": [
    "# CHEBIFIED ANTIBIOTICDB"
   ]
  },
  {
   "cell_type": "code",
   "execution_count": 5,
   "id": "d19bac42",
   "metadata": {},
   "outputs": [],
   "source": [
    "# Get all chebis from antibioticdb_chebified.csv\n",
    "adb = pd.read_csv(\"../results/antibioticdb_chebified.csv\")\n",
    "chebis = adb[\"chebi_predicted_parents\"].tolist()\n",
    "chebis = Counter([j for i in chebis for j in i.strip().split(\";\")])\n",
    "chebis = pd.DataFrame(chebis.items(), columns=['ChEBI ID', 'Count']).sort_values(by='Count', ascending=False)\n",
    "\n",
    "# Add labels\n",
    "chebis['label'] = [id_to_lbl[i] for i in chebis['ChEBI ID']]\n",
    "\n",
    "# chebis.to_csv(\"../results/antibioticdb_chebified_grouped.csv\", index=False)"
   ]
  },
  {
   "cell_type": "code",
   "execution_count": null,
   "id": "d75e263a",
   "metadata": {},
   "outputs": [],
   "source": []
  }
 ],
 "metadata": {
  "kernelspec": {
   "display_name": "eos6tpo",
   "language": "python",
   "name": "python3"
  },
  "language_info": {
   "codemirror_mode": {
    "name": "ipython",
    "version": 3
   },
   "file_extension": ".py",
   "mimetype": "text/x-python",
   "name": "python",
   "nbconvert_exporter": "python",
   "pygments_lexer": "ipython3",
   "version": "3.10.18"
  }
 },
 "nbformat": 4,
 "nbformat_minor": 5
}
